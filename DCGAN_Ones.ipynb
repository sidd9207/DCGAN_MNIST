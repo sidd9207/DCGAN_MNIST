{
 "cells": [
  {
   "cell_type": "code",
   "execution_count": 1,
   "id": "52d90fa2-9603-496e-b44a-bc50c315a6b8",
   "metadata": {},
   "outputs": [],
   "source": [
    "import torch\n",
    "import torch.nn as nn\n",
    "import torch.optim as optim\n",
    "import torchvision\n",
    "import torchvision.datasets as datasets\n",
    "from torch.utils.data import DataLoader\n",
    "import torchvision.transforms as transforms\n",
    "from torch.utils.data.sampler import SubsetRandomSampler\n",
    "import numpy as np\n",
    "from torch.utils.tensorboard import SummaryWriter"
   ]
  },
  {
   "cell_type": "code",
   "execution_count": 2,
   "id": "d931f445-1761-4bfc-b780-c8ad1ae5c711",
   "metadata": {},
   "outputs": [],
   "source": [
    "device = 'cuda' if torch.cuda.is_available() else 'cpu'\n",
    "lr = 2e-4\n",
    "batch_size = 128\n",
    "image_size = 64\n",
    "channels_img = 1\n",
    "z_dim = 100\n",
    "num_epochs = 31\n",
    "features_disc = 64\n",
    "features_gen = 64"
   ]
  },
  {
   "cell_type": "code",
   "execution_count": 3,
   "id": "e3230b35-71df-4861-b895-e11c1d9f86a8",
   "metadata": {},
   "outputs": [],
   "source": [
    "transforms = torchvision.transforms.Compose([transforms.Resize(image_size),\n",
    "                                             transforms.ToTensor(),\n",
    "                                transforms.Normalize([0.5 for _ in range(channels_img)], [0.5 for _ in range(channels_img)])])"
   ]
  },
  {
   "cell_type": "code",
   "execution_count": 4,
   "id": "62cff25a-7797-42d8-aa0a-8e00632f532f",
   "metadata": {},
   "outputs": [],
   "source": [
    "dataset = datasets.MNIST(root=\"dataset/\", transform=transforms, download=True)"
   ]
  },
  {
   "cell_type": "code",
   "execution_count": 5,
   "id": "b75227eb-584d-47f9-a954-ba2344db4113",
   "metadata": {},
   "outputs": [],
   "source": [
    "def get_indices(dataset, class_name):\n",
    "    indices = []\n",
    "    for i in range(len(dataset.targets)):\n",
    "        if dataset.targets[i] == class_name:\n",
    "            indices.append(i)\n",
    "    return indices"
   ]
  },
  {
   "cell_type": "code",
   "execution_count": 6,
   "id": "ca80e944-fedc-4583-9493-2008148876d2",
   "metadata": {},
   "outputs": [],
   "source": [
    "idx = get_indices(dataset, 9)"
   ]
  },
  {
   "cell_type": "code",
   "execution_count": 7,
   "id": "e8475190-c264-4473-aa8b-0103be8f26ac",
   "metadata": {},
   "outputs": [],
   "source": [
    "loader = DataLoader(dataset, batch_size=batch_size, sampler = SubsetRandomSampler(idx))"
   ]
  },
  {
   "cell_type": "code",
   "execution_count": 8,
   "id": "7e3b809d-a0b0-426a-8c0c-7e469b039ccf",
   "metadata": {},
   "outputs": [],
   "source": [
    "class Discriminator(nn.Module):\n",
    "    def __init__(self, channels_img, features_d):\n",
    "        super(Discriminator, self).__init__()\n",
    "        self.disc = nn.Sequential(\n",
    "            nn.Conv2d(channels_img, features_d, kernel_size=4, stride=2, padding=1),\n",
    "            nn.LeakyReLU(0.2),\n",
    "            self._block(features_d, features_d*2, 4, 2, 1),\n",
    "            self._block(features_d*2, features_d*4, 4, 2, 1),\n",
    "            self._block(features_d*4, features_d*8, 4, 2, 1),\n",
    "            nn.Conv2d(features_d*8, 1, kernel_size=4, stride=2, padding=0),\n",
    "            nn.Sigmoid(),\n",
    "        )\n",
    "\n",
    "    def _block(self, in_channels, out_channels, kernel_size, stride, padding):\n",
    "        return nn.Sequential(\n",
    "            nn.Conv2d(in_channels, out_channels, kernel_size=kernel_size, stride=stride, padding=padding, bias=False),\n",
    "            nn.BatchNorm2d(out_channels),\n",
    "            nn.LeakyReLU(0.2)\n",
    "        )\n",
    "    def forward(self, x):\n",
    "        return self.disc(x)"
   ]
  },
  {
   "cell_type": "code",
   "execution_count": 9,
   "id": "c0f0c606-4afa-463f-9146-5c55a3956f4b",
   "metadata": {},
   "outputs": [],
   "source": [
    "class Generator(nn.Module):\n",
    "    def __init__(self, z_dim, channels_img, features_g):\n",
    "        super(Generator, self).__init__()\n",
    "        self.gen = nn.Sequential(\n",
    "            self._block(z_dim, features_g*16, 4, 1, 0),\n",
    "            self._block(features_g*16, features_g*8, 4, 2, 1),\n",
    "            self._block(features_g*8, features_g*4, 4, 2, 1),\n",
    "            self._block(features_g*4, features_g*2, 4, 2, 1),\n",
    "            nn.ConvTranspose2d(features_g*2, channels_img, kernel_size=4, stride=2, padding=1),\n",
    "            nn.Tanh(),\n",
    "        )\n",
    "\n",
    "    def _block(self, in_channels, out_channels, kernel_size, stride, padding):\n",
    "        return nn.Sequential(\n",
    "            nn.ConvTranspose2d(in_channels, out_channels, kernel_size=kernel_size, stride=stride, padding=padding, bias=False),\n",
    "            nn.BatchNorm2d(out_channels),\n",
    "            nn.ReLU(),\n",
    "        )\n",
    "\n",
    "    def forward(self, x):\n",
    "        return self.gen(x)"
   ]
  },
  {
   "cell_type": "code",
   "execution_count": 10,
   "id": "4eb59277-7e9d-4e55-9f2f-872a5486191a",
   "metadata": {},
   "outputs": [],
   "source": [
    "def initialize_weights(model):\n",
    "    for m in model.modules():\n",
    "        if isinstance(m, (nn.Conv2d, nn.ConvTranspose2d, nn.BatchNorm2d)):\n",
    "            nn.init.normal_(m.weight.data, 0.0, 0.02)"
   ]
  },
  {
   "cell_type": "code",
   "execution_count": 11,
   "id": "0ccd90bc-415f-467c-8d85-4e812b5347ce",
   "metadata": {},
   "outputs": [],
   "source": [
    "def test():\n",
    "    N, in_channels, H, W = 8, 3, 64, 64\n",
    "    z_dim = 100\n",
    "    x = torch.randn((N, in_channels, H, W))\n",
    "    disc = Discriminator(in_channels, 8)\n",
    "    initialize_weights(disc)\n",
    "    assert disc(x).shape == (N, 1, 1, 1)\n",
    "\n",
    "    gen = Generator(z_dim, in_channels, 8)\n",
    "    initialize_weights(gen)\n",
    "    z = torch.randn((N, z_dim, 1, 1))\n",
    "    assert gen(z).shape == (N, in_channels, H, W)\n",
    "    print(\"Success\")"
   ]
  },
  {
   "cell_type": "code",
   "execution_count": 12,
   "id": "adb983e1-b790-4025-875a-1d79ed2a4eec",
   "metadata": {},
   "outputs": [
    {
     "name": "stdout",
     "output_type": "stream",
     "text": [
      "Success\n"
     ]
    }
   ],
   "source": [
    "test()"
   ]
  },
  {
   "cell_type": "code",
   "execution_count": 13,
   "id": "65286d46-0c37-4c01-acd7-919128d1bed0",
   "metadata": {},
   "outputs": [],
   "source": [
    "gen = Generator(z_dim, channels_img, features_gen).to(device)\n",
    "initialize_weights(gen)"
   ]
  },
  {
   "cell_type": "code",
   "execution_count": 14,
   "id": "8e260198-1c69-44ba-acc0-ee84d762edbe",
   "metadata": {},
   "outputs": [],
   "source": [
    "disc = Discriminator(channels_img, features_disc).to(device)\n",
    "initialize_weights(disc)"
   ]
  },
  {
   "cell_type": "code",
   "execution_count": 15,
   "id": "bba2eadf-b1f7-47c1-9163-952e1a3b3826",
   "metadata": {},
   "outputs": [],
   "source": [
    "opt_gen = optim.Adam(gen.parameters(), lr=lr, betas=(0.5, 0.999))\n",
    "opt_disc = optim.Adam(disc.parameters(), lr=lr, betas=(0.5, 0.999))"
   ]
  },
  {
   "cell_type": "code",
   "execution_count": 16,
   "id": "cacef7cf-8520-4764-b080-f68fee8eafb8",
   "metadata": {},
   "outputs": [],
   "source": [
    "criterion = nn.BCELoss()"
   ]
  },
  {
   "cell_type": "code",
   "execution_count": 17,
   "id": "b0a12f89-330c-4269-b69b-61acabd4a74c",
   "metadata": {},
   "outputs": [],
   "source": [
    "fixed_noise = torch.randn((32, z_dim, 1, 1)).to(device)"
   ]
  },
  {
   "cell_type": "code",
   "execution_count": 18,
   "id": "42da6d82-82eb-4a58-acd4-7afc15c1aee6",
   "metadata": {},
   "outputs": [],
   "source": [
    "writer_real = SummaryWriter(f\"runs/DCGAN_Nines/real\")\n",
    "writer_fake = SummaryWriter(f\"runs/DCGAN_Nines/fake\")"
   ]
  },
  {
   "cell_type": "code",
   "execution_count": 19,
   "id": "2bbfb9c5-4da8-4942-bbae-9b2872ffc090",
   "metadata": {},
   "outputs": [
    {
     "data": {
      "text/plain": [
       "Discriminator(\n",
       "  (disc): Sequential(\n",
       "    (0): Conv2d(1, 64, kernel_size=(4, 4), stride=(2, 2), padding=(1, 1))\n",
       "    (1): LeakyReLU(negative_slope=0.2)\n",
       "    (2): Sequential(\n",
       "      (0): Conv2d(64, 128, kernel_size=(4, 4), stride=(2, 2), padding=(1, 1), bias=False)\n",
       "      (1): BatchNorm2d(128, eps=1e-05, momentum=0.1, affine=True, track_running_stats=True)\n",
       "      (2): LeakyReLU(negative_slope=0.2)\n",
       "    )\n",
       "    (3): Sequential(\n",
       "      (0): Conv2d(128, 256, kernel_size=(4, 4), stride=(2, 2), padding=(1, 1), bias=False)\n",
       "      (1): BatchNorm2d(256, eps=1e-05, momentum=0.1, affine=True, track_running_stats=True)\n",
       "      (2): LeakyReLU(negative_slope=0.2)\n",
       "    )\n",
       "    (4): Sequential(\n",
       "      (0): Conv2d(256, 512, kernel_size=(4, 4), stride=(2, 2), padding=(1, 1), bias=False)\n",
       "      (1): BatchNorm2d(512, eps=1e-05, momentum=0.1, affine=True, track_running_stats=True)\n",
       "      (2): LeakyReLU(negative_slope=0.2)\n",
       "    )\n",
       "    (5): Conv2d(512, 1, kernel_size=(4, 4), stride=(2, 2))\n",
       "    (6): Sigmoid()\n",
       "  )\n",
       ")"
      ]
     },
     "execution_count": 19,
     "metadata": {},
     "output_type": "execute_result"
    }
   ],
   "source": [
    "gen.train()\n",
    "disc.train()"
   ]
  },
  {
   "cell_type": "code",
   "execution_count": 20,
   "id": "69aa94b2-496f-4177-8403-99f623dbad8c",
   "metadata": {},
   "outputs": [],
   "source": [
    "step = 0"
   ]
  },
  {
   "cell_type": "code",
   "execution_count": 21,
   "id": "8555b463-34ef-47ef-abcb-29d270342fe0",
   "metadata": {
    "scrolled": true
   },
   "outputs": [
    {
     "name": "stdout",
     "output_type": "stream",
     "text": [
      "Epoch [0/31] Batch 0/47                 Loss D: 0.6971, loss G: 0.7839\n",
      "Epoch [1/31] Batch 0/47                 Loss D: 0.0542, loss G: 2.8374\n",
      "Epoch [2/31] Batch 0/47                 Loss D: 0.0161, loss G: 3.9836\n",
      "Epoch [3/31] Batch 0/47                 Loss D: 0.0076, loss G: 4.7184\n",
      "Epoch [4/31] Batch 0/47                 Loss D: 0.0400, loss G: 3.2208\n",
      "Epoch [5/31] Batch 0/47                 Loss D: 0.3626, loss G: 2.0845\n",
      "Epoch [6/31] Batch 0/47                 Loss D: 0.4966, loss G: 1.9290\n",
      "Epoch [7/31] Batch 0/47                 Loss D: 0.5545, loss G: 0.7807\n",
      "Epoch [8/31] Batch 0/47                 Loss D: 0.6517, loss G: 0.8996\n",
      "Epoch [9/31] Batch 0/47                 Loss D: 0.6399, loss G: 0.7805\n",
      "Epoch [10/31] Batch 0/47                 Loss D: 0.6269, loss G: 0.8499\n",
      "Epoch [11/31] Batch 0/47                 Loss D: 0.6606, loss G: 1.0748\n",
      "Epoch [12/31] Batch 0/47                 Loss D: 0.6378, loss G: 0.9113\n",
      "Epoch [13/31] Batch 0/47                 Loss D: 0.6883, loss G: 0.8702\n",
      "Epoch [14/31] Batch 0/47                 Loss D: 0.7422, loss G: 1.0835\n",
      "Epoch [15/31] Batch 0/47                 Loss D: 0.6787, loss G: 0.7597\n",
      "Epoch [16/31] Batch 0/47                 Loss D: 0.6534, loss G: 0.8342\n",
      "Epoch [17/31] Batch 0/47                 Loss D: 0.6918, loss G: 1.0194\n",
      "Epoch [18/31] Batch 0/47                 Loss D: 0.6831, loss G: 0.7944\n",
      "Epoch [19/31] Batch 0/47                 Loss D: 0.6453, loss G: 0.8667\n",
      "Epoch [20/31] Batch 0/47                 Loss D: 0.6699, loss G: 1.5310\n",
      "Epoch [21/31] Batch 0/47                 Loss D: 0.6725, loss G: 0.7661\n",
      "Epoch [22/31] Batch 0/47                 Loss D: 0.6600, loss G: 0.7279\n",
      "Epoch [23/31] Batch 0/47                 Loss D: 0.6837, loss G: 0.6953\n",
      "Epoch [24/31] Batch 0/47                 Loss D: 0.6737, loss G: 0.7555\n",
      "Epoch [25/31] Batch 0/47                 Loss D: 0.7923, loss G: 1.1888\n",
      "Epoch [26/31] Batch 0/47                 Loss D: 0.7054, loss G: 0.8042\n",
      "Epoch [27/31] Batch 0/47                 Loss D: 0.6904, loss G: 1.0001\n",
      "Epoch [28/31] Batch 0/47                 Loss D: 0.6764, loss G: 0.7474\n",
      "Epoch [29/31] Batch 0/47                 Loss D: 0.7095, loss G: 0.5141\n",
      "Epoch [30/31] Batch 0/47                 Loss D: 0.6708, loss G: 0.7783\n"
     ]
    }
   ],
   "source": [
    "for epoch in range(num_epochs):\n",
    "    for batch_idx, (real, _) in enumerate(loader):\n",
    "        real = real.to(device)\n",
    "        noise = torch.randn((batch_size, z_dim, 1, 1)).to(device)\n",
    "\n",
    "        ##train disc\n",
    "        disc.zero_grad()\n",
    "\n",
    "        fake = gen(noise)\n",
    "        disc_real = disc(real).reshape(-1)\n",
    "        loss_disc_real = criterion(disc_real, torch.ones_like(disc_real))\n",
    "        disc_fake = disc(fake).reshape(-1)\n",
    "        loss_disc_fake = criterion(disc_fake, torch.zeros_like(disc_fake))\n",
    "        loss_disc_total = (loss_disc_real + loss_disc_fake) / 2\n",
    "        loss_disc_total.backward(retain_graph=True)\n",
    "        opt_disc.step()\n",
    "\n",
    "        ##train gen\n",
    "        gen.zero_grad()\n",
    "        output = disc(fake).reshape(-1)\n",
    "        loss_gen = criterion(output, torch.ones_like(output))\n",
    "        loss_gen.backward()\n",
    "        opt_gen.step()\n",
    "        \n",
    "        if batch_idx % 100 == 0:\n",
    "            print(\n",
    "                f\"Epoch [{epoch}/{num_epochs}] Batch {batch_idx}/{len(loader)} \\\n",
    "                Loss D: {loss_disc_total:.4f}, loss G: {loss_gen:.4f}\"\n",
    "            )\n",
    "\n",
    "            with torch.no_grad():\n",
    "                fake = gen(noise)\n",
    "\n",
    "                img_grid_real = torchvision.utils.make_grid(\n",
    "                    real[:32], normalize=True\n",
    "                )\n",
    "\n",
    "                img_grid_fake = torchvision.utils.make_grid(\n",
    "                    fake[:32], normalize=True\n",
    "                )\n",
    "\n",
    "                writer_real.add_image(\"Real\", img_grid_real, global_step=step)\n",
    "                writer_fake.add_image(\"Fake\", img_grid_fake, global_step=step)\n",
    "            step += 1"
   ]
  },
  {
   "cell_type": "code",
   "execution_count": 1,
   "id": "4f36a47d-c6bb-4556-936e-b4b4cc02fc86",
   "metadata": {},
   "outputs": [],
   "source": [
    "import tensorboard"
   ]
  },
  {
   "cell_type": "code",
   "execution_count": 2,
   "id": "ebae4e2a-a4c2-4666-9979-4c24c5256199",
   "metadata": {},
   "outputs": [],
   "source": [
    "%load_ext tensorboard"
   ]
  },
  {
   "cell_type": "code",
   "execution_count": 23,
   "id": "71268305-9782-458f-9002-852e3a28f09c",
   "metadata": {},
   "outputs": [],
   "source": [
    "torch.save(gen, \"Nines_generator\")"
   ]
  },
  {
   "cell_type": "code",
   "execution_count": 22,
   "id": "987f4ad2-d16a-41c7-ba0c-e4148bb87c58",
   "metadata": {},
   "outputs": [],
   "source": [
    "torch.save(disc, \"Nines_discriminator\")"
   ]
  },
  {
   "cell_type": "code",
   "execution_count": 3,
   "id": "1e2b36fd-606f-485a-b370-6cf19a6add6d",
   "metadata": {},
   "outputs": [
    {
     "data": {
      "text/html": [
       "\n",
       "      <iframe id=\"tensorboard-frame-5585902c706452a0\" width=\"100%\" height=\"800\" frameborder=\"0\">\n",
       "      </iframe>\n",
       "      <script>\n",
       "        (function() {\n",
       "          const frame = document.getElementById(\"tensorboard-frame-5585902c706452a0\");\n",
       "          const url = new URL(\"/\", window.location);\n",
       "          const port = 6006;\n",
       "          if (port) {\n",
       "            url.port = port;\n",
       "          }\n",
       "          frame.src = url;\n",
       "        })();\n",
       "      </script>\n",
       "    "
      ],
      "text/plain": [
       "<IPython.core.display.HTML object>"
      ]
     },
     "metadata": {},
     "output_type": "display_data"
    }
   ],
   "source": [
    "%tensorboard --logdir=runs"
   ]
  }
 ],
 "metadata": {
  "kernelspec": {
   "display_name": "Python 3 (ipykernel)",
   "language": "python",
   "name": "python3"
  },
  "language_info": {
   "codemirror_mode": {
    "name": "ipython",
    "version": 3
   },
   "file_extension": ".py",
   "mimetype": "text/x-python",
   "name": "python",
   "nbconvert_exporter": "python",
   "pygments_lexer": "ipython3",
   "version": "3.11.5"
  }
 },
 "nbformat": 4,
 "nbformat_minor": 5
}
